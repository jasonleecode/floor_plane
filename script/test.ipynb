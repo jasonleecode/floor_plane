{
 "cells": [
  {
   "cell_type": "code",
   "execution_count": 1,
   "metadata": {},
   "outputs": [],
   "source": [
    "#! /usr/bin/env python3\n",
    "\n",
    "import rospy\n",
    "import time\n",
    "from sensor_msgs.msg import LaserScan\n",
    "from visualization_msgs.msg import MarkerArray\n",
    "from nav_msgs.msg import Odometry\n",
    "from tf.transformations import euler_from_quaternion, quaternion_from_euler\n",
    "\n",
    "from topometricmap.topo_map import *\n",
    "from topometricmap.utils import *\n",
    "from floor_plan.floor_plan import *\n",
    "from floor_plan.floorplan_extraction import *\n",
    "from floor_plan.utils import *\n",
    "\n",
    "EMBEDDING_DIM = 512\n",
    "\n",
    "scan = None\n",
    "def scan_cb(msg: LaserScan):\n",
    "    global scan\n",
    "    scan = msg\n",
    "\n",
    "euler = None\n",
    "movement = 0.0\n",
    "def odom_cb(msg: Odometry):\n",
    "    global euler, movement\n",
    "    q = (msg.pose.pose.orientation.x, msg.pose.pose.orientation.y, msg.pose.pose.orientation.z, msg.pose.pose.orientation.w)\n",
    "    movement += np.linalg.norm(np.asarray( (msg.twist.twist.linear.x, msg.twist.twist.linear.y), dtype=float))\n",
    "    euler = euler_from_quaternion(q, axes='sxyz')\n",
    "\n",
    "rospy.init_node(\"floor_plan\", anonymous=True)\n"
   ]
  },
  {
   "cell_type": "code",
   "execution_count": 6,
   "metadata": {},
   "outputs": [
    {
     "name": "stdout",
     "output_type": "stream",
     "text": [
      "Takes 831.0558795928955 to parse the floor plan...\n",
      "Process vertices: **********100%Takes 6454.367637634277 for laserscan sampling...\n",
      "\n",
      "Process edges: **********100%"
     ]
    }
   ],
   "source": [
    "\n",
    "floor_plan = FloorPlan(\"/home/rtu/catkin_clip_topo/src/floor_plane/topdown_floors3.png\")\n",
    "floor_plan.InitBelief(0)\n",
    "floor_plan.InitSimilarity()\n",
    "# floor_plan.PropogatePosition()"
   ]
  },
  {
   "cell_type": "code",
   "execution_count": 2,
   "metadata": {},
   "outputs": [
    {
     "name": "stdout",
     "output_type": "stream",
     "text": [
      "Takes 794.7967052459717 to parse the floor plan...\n",
      "Process vertices: **********100%Takes 5579.517126083374 for laserscan sampling...\n",
      "\n",
      "Process edges: **********100%"
     ]
    }
   ],
   "source": [
    "marker_pub = rospy.Publisher(\"floor_plan\", MarkerArray, queue_size=10)\n",
    "rospy.Subscriber(\"scan_aug\", LaserScan, callback=scan_cb, queue_size=1)\n",
    "rospy.Subscriber(\"odom\", Odometry, callback=odom_cb, queue_size=1)\n",
    "\n",
    "rospy.Rate(1).sleep()"
   ]
  },
  {
   "cell_type": "code",
   "execution_count": 8,
   "metadata": {},
   "outputs": [],
   "source": [
    "markers = floor_plan.Visuzlize(show_laser=True)\n",
    "marker_pub.publish(markers)"
   ]
  },
  {
   "cell_type": "code",
   "execution_count": 7,
   "metadata": {},
   "outputs": [
    {
     "name": "stdout",
     "output_type": "stream",
     "text": [
      "Update time: 0.12254714965820312\n",
      "Visualize time: 14.792680740356445\n"
     ]
    }
   ],
   "source": [
    "t1 = time.time()\n",
    "if scan is not None and movement>2.0:\n",
    "\n",
    "    # align the\n",
    "    scan.angle_min += euler[2]\n",
    "    scan.angle_max += euler[2]\n",
    "    floor_plan.UpdateSimilarity(scan)\n",
    "    floor_plan.UpdateBelief(move=0.35)\n",
    "    movement=0.0\n",
    "t2 = time.time()\n",
    "\n",
    "markers = floor_plan.Visuzlize()\n",
    "marker_pub.publish(markers)\n",
    "t3 = time.time()\n",
    "\n",
    "print(f\"Update time: {(t2-t1)*1000.0}\")\n",
    "print(f\"Visualize time: {(t3-t2)*1000.0}\")"
   ]
  },
  {
   "cell_type": "code",
   "execution_count": 22,
   "metadata": {},
   "outputs": [],
   "source": [
    "floor_plan.PropogatePosition(max_distance=-1)"
   ]
  },
  {
   "cell_type": "code",
   "execution_count": 23,
   "metadata": {},
   "outputs": [],
   "source": [
    "markers = floor_plan.Visuzlize(show_laser=True)\n",
    "marker_pub.publish(markers)"
   ]
  },
  {
   "cell_type": "code",
   "execution_count": 15,
   "metadata": {},
   "outputs": [
    {
     "data": {
      "text/plain": [
       "array([ 0.8, -3.4,  0. ,  0. ,  0. ,  0. ])"
      ]
     },
     "execution_count": 15,
     "metadata": {},
     "output_type": "execute_result"
    }
   ],
   "source": [
    "floor_plan.nodes[27].pose_opt"
   ]
  },
  {
   "cell_type": "code",
   "execution_count": 16,
   "metadata": {},
   "outputs": [
    {
     "data": {
      "text/plain": [
       "array([ 2.6, -5.5,  0. ,  0. ,  0. ,  0. ])"
      ]
     },
     "execution_count": 16,
     "metadata": {},
     "output_type": "execute_result"
    }
   ],
   "source": [
    "floor_plan.nodes[27].pose_odom"
   ]
  },
  {
   "cell_type": "code",
   "execution_count": 17,
   "metadata": {},
   "outputs": [
    {
     "data": {
      "text/plain": [
       "array([ 3.8, -5.8,  0. ,  0. ,  0. ,  0. ])"
      ]
     },
     "execution_count": 17,
     "metadata": {},
     "output_type": "execute_result"
    }
   ],
   "source": [
    "floor_plan.nodes[29].pose_opt"
   ]
  },
  {
   "cell_type": "code",
   "execution_count": 18,
   "metadata": {},
   "outputs": [
    {
     "data": {
      "text/plain": [
       "array([ 3.8, -5.8,  0. ,  0. ,  0. ,  0. ])"
      ]
     },
     "execution_count": 18,
     "metadata": {},
     "output_type": "execute_result"
    }
   ],
   "source": [
    "floor_plan.nodes[29].pose_odom"
   ]
  },
  {
   "cell_type": "code",
   "execution_count": 13,
   "metadata": {},
   "outputs": [
    {
     "data": {
      "text/plain": [
       "array([ 1.2, -0.3,  0. ,  0. ,  0. ,  0. ])"
      ]
     },
     "execution_count": 13,
     "metadata": {},
     "output_type": "execute_result"
    }
   ],
   "source": [
    "floor_plan.nodes[29].RelativePose2D(floor_plan.nodes[27])"
   ]
  },
  {
   "cell_type": "code",
   "execution_count": null,
   "metadata": {},
   "outputs": [],
   "source": []
  }
 ],
 "metadata": {
  "kernelspec": {
   "display_name": "habitat",
   "language": "python",
   "name": "python3"
  },
  "language_info": {
   "codemirror_mode": {
    "name": "ipython",
    "version": 3
   },
   "file_extension": ".py",
   "mimetype": "text/x-python",
   "name": "python",
   "nbconvert_exporter": "python",
   "pygments_lexer": "ipython3",
   "version": "3.7.15"
  },
  "orig_nbformat": 4,
  "vscode": {
   "interpreter": {
    "hash": "a32f877ebc366289fa61623ef8580a73f82542f599445733980a9b6515e91bce"
   }
  }
 },
 "nbformat": 4,
 "nbformat_minor": 2
}
